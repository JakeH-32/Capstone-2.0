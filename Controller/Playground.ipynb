{
 "cells": [
  {
   "cell_type": "code",
   "execution_count": 1,
   "id": "421412a2",
   "metadata": {},
   "outputs": [],
   "source": [
    "import dummyMain\n",
    "nextQ, questionDifficulty, distributions = dummyMain.initialize()"
   ]
  },
  {
   "cell_type": "code",
   "execution_count": 5,
   "id": "eaa1a838",
   "metadata": {},
   "outputs": [],
   "source": [
    "nextQ\n",
    "import pandas as pd"
   ]
  },
  {
   "cell_type": "code",
   "execution_count": 6,
   "id": "caa496b0",
   "metadata": {},
   "outputs": [],
   "source": [
    "data = pd.read_csv(\"data.csv\")"
   ]
  },
  {
   "cell_type": "code",
   "execution_count": 12,
   "id": "16beed6e",
   "metadata": {},
   "outputs": [],
   "source": [
    "Qdata = data.iloc[1000:1010]"
   ]
  },
  {
   "cell_type": "code",
   "execution_count": 27,
   "id": "3cfafffa",
   "metadata": {},
   "outputs": [
    {
     "data": {
      "text/plain": [
       "str"
      ]
     },
     "execution_count": 27,
     "metadata": {},
     "output_type": "execute_result"
    }
   ],
   "source": [
    "type(Qdata.problem.iloc[0])"
   ]
  },
  {
   "cell_type": "code",
   "execution_count": 28,
   "id": "b5ea6323",
   "metadata": {},
   "outputs": [
    {
     "data": {
      "text/html": [
       "<div>\n",
       "<style scoped>\n",
       "    .dataframe tbody tr th:only-of-type {\n",
       "        vertical-align: middle;\n",
       "    }\n",
       "\n",
       "    .dataframe tbody tr th {\n",
       "        vertical-align: top;\n",
       "    }\n",
       "\n",
       "    .dataframe thead th {\n",
       "        text-align: right;\n",
       "    }\n",
       "</style>\n",
       "<table border=\"1\" class=\"dataframe\">\n",
       "  <thead>\n",
       "    <tr style=\"text-align: right;\">\n",
       "      <th></th>\n",
       "      <th>student_id</th>\n",
       "      <th>problem</th>\n",
       "      <th>timestamp</th>\n",
       "      <th>graded</th>\n",
       "      <th>score</th>\n",
       "      <th>sourcehash</th>\n",
       "    </tr>\n",
       "  </thead>\n",
       "  <tbody>\n",
       "    <tr>\n",
       "      <th>1000</th>\n",
       "      <td>a82a958c2ba7a1e17f95665f9af54bef5e1458ac</td>\n",
       "      <td>lsn4_printpractice</td>\n",
       "      <td>2021-01-12 14:49:00</td>\n",
       "      <td>1</td>\n",
       "      <td>42.9</td>\n",
       "      <td>e1aa7ef4db489c2feed3e2870aff64371fa2b5a2</td>\n",
       "    </tr>\n",
       "    <tr>\n",
       "      <th>1001</th>\n",
       "      <td>a82a958c2ba7a1e17f95665f9af54bef5e1458ac</td>\n",
       "      <td>lsn4_printpractice</td>\n",
       "      <td>2021-01-12 14:49:00</td>\n",
       "      <td>1</td>\n",
       "      <td>42.9</td>\n",
       "      <td>a494cc26c7d3e8990abadb8ac2681c5a2690b993</td>\n",
       "    </tr>\n",
       "    <tr>\n",
       "      <th>1002</th>\n",
       "      <td>a82a958c2ba7a1e17f95665f9af54bef5e1458ac</td>\n",
       "      <td>lsn4_printpractice</td>\n",
       "      <td>2021-01-12 14:50:00</td>\n",
       "      <td>1</td>\n",
       "      <td>42.9</td>\n",
       "      <td>f982b320b2f3d8c2649e3dee1e378b8d7539abcf</td>\n",
       "    </tr>\n",
       "    <tr>\n",
       "      <th>1003</th>\n",
       "      <td>a82a958c2ba7a1e17f95665f9af54bef5e1458ac</td>\n",
       "      <td>lsn4_printpractice</td>\n",
       "      <td>2021-01-12 14:50:00</td>\n",
       "      <td>1</td>\n",
       "      <td>57.1</td>\n",
       "      <td>c9ff0c8571f77e6f9a5c0c01c2448772c99720e3</td>\n",
       "    </tr>\n",
       "    <tr>\n",
       "      <th>1004</th>\n",
       "      <td>a82a958c2ba7a1e17f95665f9af54bef5e1458ac</td>\n",
       "      <td>lsn4_printpractice</td>\n",
       "      <td>2021-01-12 14:51:00</td>\n",
       "      <td>1</td>\n",
       "      <td>57.1</td>\n",
       "      <td>48510f13bb5e2df4bb4edb0853c0d4822c9cee12</td>\n",
       "    </tr>\n",
       "    <tr>\n",
       "      <th>1005</th>\n",
       "      <td>a82a958c2ba7a1e17f95665f9af54bef5e1458ac</td>\n",
       "      <td>lsn4_printpractice</td>\n",
       "      <td>2021-01-12 14:51:00</td>\n",
       "      <td>1</td>\n",
       "      <td>57.1</td>\n",
       "      <td>0491073be0ff1c20f271f40f55fe0667e3fba206</td>\n",
       "    </tr>\n",
       "    <tr>\n",
       "      <th>1006</th>\n",
       "      <td>a82a958c2ba7a1e17f95665f9af54bef5e1458ac</td>\n",
       "      <td>lsn4_printpractice</td>\n",
       "      <td>2021-01-12 14:51:00</td>\n",
       "      <td>1</td>\n",
       "      <td>85.7</td>\n",
       "      <td>bc3280ae25a79d7dc4619409b97c534cae0938a1</td>\n",
       "    </tr>\n",
       "    <tr>\n",
       "      <th>1007</th>\n",
       "      <td>a82a958c2ba7a1e17f95665f9af54bef5e1458ac</td>\n",
       "      <td>lsn4_printpractice</td>\n",
       "      <td>2021-01-12 14:52:00</td>\n",
       "      <td>1</td>\n",
       "      <td>100.0</td>\n",
       "      <td>1c7add63660420eec87fcbcf66fb95801aa4963f</td>\n",
       "    </tr>\n",
       "    <tr>\n",
       "      <th>1008</th>\n",
       "      <td>a82a958c2ba7a1e17f95665f9af54bef5e1458ac</td>\n",
       "      <td>lsn4_printpractice</td>\n",
       "      <td>2021-01-12 14:52:00</td>\n",
       "      <td>1</td>\n",
       "      <td>42.9</td>\n",
       "      <td>a950e7c7471df68b3f49e8365cc7e44698c183ea</td>\n",
       "    </tr>\n",
       "    <tr>\n",
       "      <th>1009</th>\n",
       "      <td>a82a958c2ba7a1e17f95665f9af54bef5e1458ac</td>\n",
       "      <td>lsn4_printpractice</td>\n",
       "      <td>2021-01-12 14:52:00</td>\n",
       "      <td>1</td>\n",
       "      <td>100.0</td>\n",
       "      <td>ee057f118498ecbee0291104412ede5274bced28</td>\n",
       "    </tr>\n",
       "  </tbody>\n",
       "</table>\n",
       "</div>"
      ],
      "text/plain": [
       "                                    student_id             problem  \\\n",
       "1000  a82a958c2ba7a1e17f95665f9af54bef5e1458ac  lsn4_printpractice   \n",
       "1001  a82a958c2ba7a1e17f95665f9af54bef5e1458ac  lsn4_printpractice   \n",
       "1002  a82a958c2ba7a1e17f95665f9af54bef5e1458ac  lsn4_printpractice   \n",
       "1003  a82a958c2ba7a1e17f95665f9af54bef5e1458ac  lsn4_printpractice   \n",
       "1004  a82a958c2ba7a1e17f95665f9af54bef5e1458ac  lsn4_printpractice   \n",
       "1005  a82a958c2ba7a1e17f95665f9af54bef5e1458ac  lsn4_printpractice   \n",
       "1006  a82a958c2ba7a1e17f95665f9af54bef5e1458ac  lsn4_printpractice   \n",
       "1007  a82a958c2ba7a1e17f95665f9af54bef5e1458ac  lsn4_printpractice   \n",
       "1008  a82a958c2ba7a1e17f95665f9af54bef5e1458ac  lsn4_printpractice   \n",
       "1009  a82a958c2ba7a1e17f95665f9af54bef5e1458ac  lsn4_printpractice   \n",
       "\n",
       "               timestamp  graded  score  \\\n",
       "1000 2021-01-12 14:49:00       1   42.9   \n",
       "1001 2021-01-12 14:49:00       1   42.9   \n",
       "1002 2021-01-12 14:50:00       1   42.9   \n",
       "1003 2021-01-12 14:50:00       1   57.1   \n",
       "1004 2021-01-12 14:51:00       1   57.1   \n",
       "1005 2021-01-12 14:51:00       1   57.1   \n",
       "1006 2021-01-12 14:51:00       1   85.7   \n",
       "1007 2021-01-12 14:52:00       1  100.0   \n",
       "1008 2021-01-12 14:52:00       1   42.9   \n",
       "1009 2021-01-12 14:52:00       1  100.0   \n",
       "\n",
       "                                    sourcehash  \n",
       "1000  e1aa7ef4db489c2feed3e2870aff64371fa2b5a2  \n",
       "1001  a494cc26c7d3e8990abadb8ac2681c5a2690b993  \n",
       "1002  f982b320b2f3d8c2649e3dee1e378b8d7539abcf  \n",
       "1003  c9ff0c8571f77e6f9a5c0c01c2448772c99720e3  \n",
       "1004  48510f13bb5e2df4bb4edb0853c0d4822c9cee12  \n",
       "1005  0491073be0ff1c20f271f40f55fe0667e3fba206  \n",
       "1006  bc3280ae25a79d7dc4619409b97c534cae0938a1  \n",
       "1007  1c7add63660420eec87fcbcf66fb95801aa4963f  \n",
       "1008  a950e7c7471df68b3f49e8365cc7e44698c183ea  \n",
       "1009  ee057f118498ecbee0291104412ede5274bced28  "
      ]
     },
     "execution_count": 28,
     "metadata": {},
     "output_type": "execute_result"
    }
   ],
   "source": [
    "Qdata"
   ]
  },
  {
   "cell_type": "code",
   "execution_count": 16,
   "id": "921d3ccf",
   "metadata": {},
   "outputs": [
    {
     "name": "stderr",
     "output_type": "stream",
     "text": [
      "C:\\Users\\C22Evan.Marrone\\OneDrive - afacademy.af.edu\\Desktop\\Classes\\Capstone\\Cap 2.0\\Capstone-2.0\\Controller\\modelBuilder.py:50: SettingWithCopyWarning: \n",
      "A value is trying to be set on a copy of a slice from a DataFrame.\n",
      "Try using .loc[row_indexer,col_indexer] = value instead\n",
      "\n",
      "See the caveats in the documentation: https://pandas.pydata.org/pandas-docs/stable/user_guide/indexing.html#returning-a-view-versus-a-copy\n",
      "  df[\"timestamp\"] = pd.to_datetime(df[\"timestamp\"].astype(str))\n"
     ]
    }
   ],
   "source": [
    "import modelBuilder as mb\n",
    "qData = mb.convertRawtoClean(Qdata)\n",
    "# nextQ = mb.nextQuestion(problem, questionDifficulty, distributions, qData)"
   ]
  },
  {
   "cell_type": "code",
   "execution_count": 30,
   "id": "ecc1e166",
   "metadata": {},
   "outputs": [],
   "source": [
    "distributions = pd.read_csv(\"distributions.csv\")"
   ]
  },
  {
   "cell_type": "code",
   "execution_count": 36,
   "id": "0f7d9e3a",
   "metadata": {},
   "outputs": [
    {
     "data": {
      "text/plain": [
       "2.476364908377267"
      ]
     },
     "execution_count": 36,
     "metadata": {},
     "output_type": "execute_result"
    }
   ],
   "source": [
    "bounds = distributions.loc[distributions.index == 100]\n",
    "qData.incorrect[0] \n",
    "bounds.incorrectLower.values[0]"
   ]
  },
  {
   "cell_type": "code",
   "execution_count": 40,
   "id": "87e478f6",
   "metadata": {},
   "outputs": [],
   "source": [
    "difficulty_values = pd.read_csv('questionDifficulty.csv')"
   ]
  },
  {
   "cell_type": "code",
   "execution_count": 38,
   "id": "6a41ae72",
   "metadata": {},
   "outputs": [
    {
     "data": {
      "text/plain": [
       "'a4_1_lift'"
      ]
     },
     "execution_count": 38,
     "metadata": {},
     "output_type": "execute_result"
    }
   ],
   "source": [
    "nextQ"
   ]
  },
  {
   "cell_type": "code",
   "execution_count": 42,
   "id": "ca47c219",
   "metadata": {},
   "outputs": [],
   "source": [
    "index = difficulty_values.loc[difficulty_values.problem == \"a4_1_lift\"].index[0]"
   ]
  },
  {
   "cell_type": "code",
   "execution_count": 50,
   "id": "8edda4e3",
   "metadata": {},
   "outputs": [
    {
     "data": {
      "text/plain": [
       "20"
      ]
     },
     "execution_count": 50,
     "metadata": {},
     "output_type": "execute_result"
    }
   ],
   "source": [
    "import numpy as np\n",
    "questionsFromCurrent = int(np.ceil(len(difficulty_values)*.05))\n",
    "questionsFromCurrent"
   ]
  },
  {
   "cell_type": "code",
   "execution_count": 51,
   "id": "e800f32a",
   "metadata": {},
   "outputs": [],
   "source": [
    "viableQuestions = difficulty_values[index - questionsFromCurrent: index + questionsFromCurrent]"
   ]
  },
  {
   "cell_type": "code",
   "execution_count": 63,
   "id": "4a3d0766",
   "metadata": {},
   "outputs": [
    {
     "data": {
      "text/html": [
       "<div>\n",
       "<style scoped>\n",
       "    .dataframe tbody tr th:only-of-type {\n",
       "        vertical-align: middle;\n",
       "    }\n",
       "\n",
       "    .dataframe tbody tr th {\n",
       "        vertical-align: top;\n",
       "    }\n",
       "\n",
       "    .dataframe thead th {\n",
       "        text-align: right;\n",
       "    }\n",
       "</style>\n",
       "<table border=\"1\" class=\"dataframe\">\n",
       "  <thead>\n",
       "    <tr style=\"text-align: right;\">\n",
       "      <th></th>\n",
       "      <th>Unnamed: 0</th>\n",
       "      <th>problem</th>\n",
       "      <th>difficulty</th>\n",
       "    </tr>\n",
       "  </thead>\n",
       "  <tbody>\n",
       "    <tr>\n",
       "      <th>132</th>\n",
       "      <td>132</td>\n",
       "      <td>lsn25_midpoint</td>\n",
       "      <td>0.068714</td>\n",
       "    </tr>\n",
       "  </tbody>\n",
       "</table>\n",
       "</div>"
      ],
      "text/plain": [
       "     Unnamed: 0         problem  difficulty\n",
       "132         132  lsn25_midpoint    0.068714"
      ]
     },
     "execution_count": 63,
     "metadata": {},
     "output_type": "execute_result"
    }
   ],
   "source": [
    "difficulty_values.loc[difficulty_values.problem == \"lsn25_midpoint\"]"
   ]
  },
  {
   "cell_type": "code",
   "execution_count": 62,
   "id": "53a4f9c7",
   "metadata": {},
   "outputs": [
    {
     "data": {
      "text/html": [
       "<div>\n",
       "<style scoped>\n",
       "    .dataframe tbody tr th:only-of-type {\n",
       "        vertical-align: middle;\n",
       "    }\n",
       "\n",
       "    .dataframe tbody tr th {\n",
       "        vertical-align: top;\n",
       "    }\n",
       "\n",
       "    .dataframe thead th {\n",
       "        text-align: right;\n",
       "    }\n",
       "</style>\n",
       "<table border=\"1\" class=\"dataframe\">\n",
       "  <thead>\n",
       "    <tr style=\"text-align: right;\">\n",
       "      <th></th>\n",
       "      <th>Unnamed: 0</th>\n",
       "      <th>problem</th>\n",
       "      <th>difficulty</th>\n",
       "    </tr>\n",
       "  </thead>\n",
       "  <tbody>\n",
       "    <tr>\n",
       "      <th>340</th>\n",
       "      <td>340</td>\n",
       "      <td>a3_7_minpower</td>\n",
       "      <td>0.312289</td>\n",
       "    </tr>\n",
       "  </tbody>\n",
       "</table>\n",
       "</div>"
      ],
      "text/plain": [
       "     Unnamed: 0        problem  difficulty\n",
       "340         340  a3_7_minpower    0.312289"
      ]
     },
     "execution_count": 62,
     "metadata": {},
     "output_type": "execute_result"
    }
   ],
   "source": [
    "difficulty_values.loc[difficulty_values.problem == \"a3_7_minpower\"]"
   ]
  },
  {
   "cell_type": "code",
   "execution_count": null,
   "id": "a97f3ea0",
   "metadata": {},
   "outputs": [],
   "source": []
  }
 ],
 "metadata": {
  "kernelspec": {
   "display_name": "Python 3",
   "language": "python",
   "name": "python3"
  },
  "language_info": {
   "codemirror_mode": {
    "name": "ipython",
    "version": 3
   },
   "file_extension": ".py",
   "mimetype": "text/x-python",
   "name": "python",
   "nbconvert_exporter": "python",
   "pygments_lexer": "ipython3",
   "version": "3.8.10"
  }
 },
 "nbformat": 4,
 "nbformat_minor": 5
}
