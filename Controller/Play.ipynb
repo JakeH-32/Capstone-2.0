{
 "cells": [
  {
   "cell_type": "code",
   "execution_count": 8,
   "id": "421412a2",
   "metadata": {
    "scrolled": true
   },
   "outputs": [
    {
     "name": "stderr",
     "output_type": "stream",
     "text": [
      "C:\\Users\\C22Evan.Marrone\\Anaconda3\\lib\\site-packages\\pandas\\core\\generic.py:5494: SettingWithCopyWarning: \n",
      "A value is trying to be set on a copy of a slice from a DataFrame.\n",
      "Try using .loc[row_indexer,col_indexer] = value instead\n",
      "\n",
      "See the caveats in the documentation: https://pandas.pydata.org/pandas-docs/stable/user_guide/indexing.html#returning-a-view-versus-a-copy\n",
      "  self[name] = value\n"
     ]
    }
   ],
   "source": [
    "import initialize\n",
    "import modelBuilder as mb\n",
    "import pandas as pd\n",
    "nextQ, questionDifficulty, distributions = initialize.initialize()\n",
    "data = pd.read_csv(\"data.csv\")\n",
    "Qdata = data.iloc[1000:1010]\n",
    "nextQ = \"lsn1_helloworld\"\n",
    "qData = mb.convertRawtoClean(Qdata)"
   ]
  },
  {
   "cell_type": "code",
   "execution_count": 11,
   "id": "d4e58cd7",
   "metadata": {},
   "outputs": [
    {
     "data": {
      "text/plain": [
       "'lsn25_crashes'"
      ]
     },
     "execution_count": 11,
     "metadata": {},
     "output_type": "execute_result"
    }
   ],
   "source": [
    "nextQ = mb.increaseDifficulty(nextQ, questionDifficulty)\n",
    "nextQ"
   ]
  },
  {
   "cell_type": "markdown",
   "id": "86f50689",
   "metadata": {},
   "source": [
    "Order:\n",
    "1. lsn1_helloworld - get correct first try\n",
    "2. a3_6_missiletest - get correct first try\n",
    "3. a1_7_evacuation - get correct first try\n",
    "4. lsn25_crashes - get 5 completely wrong\n",
    "5. lsn11_imagesize -get 2 partially wrong\n",
    "Then maintain will randomly pick a close one, so we can't control the next unless we put in some static code"
   ]
  },
  {
   "cell_type": "code",
   "execution_count": 61,
   "id": "f0ada29a",
   "metadata": {},
   "outputs": [
    {
     "data": {
      "text/html": [
       "<div>\n",
       "<style scoped>\n",
       "    .dataframe tbody tr th:only-of-type {\n",
       "        vertical-align: middle;\n",
       "    }\n",
       "\n",
       "    .dataframe tbody tr th {\n",
       "        vertical-align: top;\n",
       "    }\n",
       "\n",
       "    .dataframe thead th {\n",
       "        text-align: right;\n",
       "    }\n",
       "</style>\n",
       "<table border=\"1\" class=\"dataframe\">\n",
       "  <thead>\n",
       "    <tr style=\"text-align: right;\">\n",
       "      <th></th>\n",
       "      <th>problem</th>\n",
       "      <th>difficulty</th>\n",
       "    </tr>\n",
       "  </thead>\n",
       "  <tbody>\n",
       "    <tr>\n",
       "      <th>135</th>\n",
       "      <td>a2_6_grades</td>\n",
       "      <td>0.144283</td>\n",
       "    </tr>\n",
       "  </tbody>\n",
       "</table>\n",
       "</div>"
      ],
      "text/plain": [
       "         problem  difficulty\n",
       "135  a2_6_grades    0.144283"
      ]
     },
     "execution_count": 61,
     "metadata": {},
     "output_type": "execute_result"
    }
   ],
   "source": [
    "questionDifficulty[questionDifficulty.problem == 'lsn11_imagesize']\n",
    "questionDifficulty[questionDifficulty.problem == 'a2_6_grades']"
   ]
  },
  {
   "cell_type": "code",
   "execution_count": 60,
   "id": "49ffb2ea",
   "metadata": {},
   "outputs": [
    {
     "data": {
      "text/plain": [
       "'a2_6_grades'"
      ]
     },
     "execution_count": 60,
     "metadata": {},
     "output_type": "execute_result"
    }
   ],
   "source": [
    "mb.nextQuestion(nextQ, questionDifficulty, distributions, qData)"
   ]
  },
  {
   "cell_type": "code",
   "execution_count": 16,
   "id": "d5c1a588",
   "metadata": {},
   "outputs": [],
   "source": [
    "lastQ_index = questionDifficulty[questionDifficulty['problem'] == 'a2_6_traffic_lights'].index[0]\n",
    "questionDifficulty = questionDifficulty.drop([lastQ_index]).reset_index().drop([\"index\"], axis=1)"
   ]
  },
  {
   "cell_type": "code",
   "execution_count": 59,
   "id": "ca1af098",
   "metadata": {},
   "outputs": [
    {
     "data": {
      "text/html": [
       "<div>\n",
       "<style scoped>\n",
       "    .dataframe tbody tr th:only-of-type {\n",
       "        vertical-align: middle;\n",
       "    }\n",
       "\n",
       "    .dataframe tbody tr th {\n",
       "        vertical-align: top;\n",
       "    }\n",
       "\n",
       "    .dataframe thead th {\n",
       "        text-align: right;\n",
       "    }\n",
       "</style>\n",
       "<table border=\"1\" class=\"dataframe\">\n",
       "  <thead>\n",
       "    <tr style=\"text-align: right;\">\n",
       "      <th></th>\n",
       "      <th>stud_id</th>\n",
       "      <th>problem</th>\n",
       "      <th>incorrect</th>\n",
       "      <th>hint</th>\n",
       "      <th>duration</th>\n",
       "    </tr>\n",
       "  </thead>\n",
       "  <tbody>\n",
       "    <tr>\n",
       "      <th>0</th>\n",
       "      <td>a82a958c2ba7a1e17f95665f9af54bef5e1458ac</td>\n",
       "      <td>lsn4_printpractice</td>\n",
       "      <td>0</td>\n",
       "      <td>2</td>\n",
       "      <td>0</td>\n",
       "    </tr>\n",
       "  </tbody>\n",
       "</table>\n",
       "</div>"
      ],
      "text/plain": [
       "                                    stud_id             problem  incorrect  \\\n",
       "0  a82a958c2ba7a1e17f95665f9af54bef5e1458ac  lsn4_printpractice          0   \n",
       "\n",
       "   hint  duration  \n",
       "0     2         0  "
      ]
     },
     "execution_count": 59,
     "metadata": {},
     "output_type": "execute_result"
    }
   ],
   "source": [
    "qData.hint = 2\n",
    "qData.incorrect = 0\n",
    "qData"
   ]
  },
  {
   "cell_type": "code",
   "execution_count": 52,
   "id": "b5ea6323",
   "metadata": {},
   "outputs": [],
   "source": [
    "nextQ = 'lsn11_imagesize'"
   ]
  },
  {
   "cell_type": "code",
   "execution_count": 17,
   "id": "a7362ac2",
   "metadata": {},
   "outputs": [
    {
     "data": {
      "text/html": [
       "<div>\n",
       "<style scoped>\n",
       "    .dataframe tbody tr th:only-of-type {\n",
       "        vertical-align: middle;\n",
       "    }\n",
       "\n",
       "    .dataframe tbody tr th {\n",
       "        vertical-align: top;\n",
       "    }\n",
       "\n",
       "    .dataframe thead th {\n",
       "        text-align: right;\n",
       "    }\n",
       "</style>\n",
       "<table border=\"1\" class=\"dataframe\">\n",
       "  <thead>\n",
       "    <tr style=\"text-align: right;\">\n",
       "      <th></th>\n",
       "      <th>Unnamed: 0</th>\n",
       "      <th>problem</th>\n",
       "      <th>difficulty</th>\n",
       "    </tr>\n",
       "  </thead>\n",
       "  <tbody>\n",
       "    <tr>\n",
       "      <th>0</th>\n",
       "      <td>0</td>\n",
       "      <td>a1_7_sickness</td>\n",
       "      <td>0.000000</td>\n",
       "    </tr>\n",
       "    <tr>\n",
       "      <th>1</th>\n",
       "      <td>1</td>\n",
       "      <td>a1_3_satellite</td>\n",
       "      <td>0.000000</td>\n",
       "    </tr>\n",
       "    <tr>\n",
       "      <th>2</th>\n",
       "      <td>2</td>\n",
       "      <td>lsn23_paint</td>\n",
       "      <td>0.000000</td>\n",
       "    </tr>\n",
       "    <tr>\n",
       "      <th>3</th>\n",
       "      <td>3</td>\n",
       "      <td>a3_2_excuses</td>\n",
       "      <td>0.000000</td>\n",
       "    </tr>\n",
       "    <tr>\n",
       "      <th>4</th>\n",
       "      <td>4</td>\n",
       "      <td>a1_4_goldilocks</td>\n",
       "      <td>0.000000</td>\n",
       "    </tr>\n",
       "    <tr>\n",
       "      <th>...</th>\n",
       "      <td>...</td>\n",
       "      <td>...</td>\n",
       "      <td>...</td>\n",
       "    </tr>\n",
       "    <tr>\n",
       "      <th>395</th>\n",
       "      <td>395</td>\n",
       "      <td>lsn15_survivors_by_gender</td>\n",
       "      <td>0.725330</td>\n",
       "    </tr>\n",
       "    <tr>\n",
       "      <th>396</th>\n",
       "      <td>396</td>\n",
       "      <td>lsn24_nasa</td>\n",
       "      <td>0.742961</td>\n",
       "    </tr>\n",
       "    <tr>\n",
       "      <th>397</th>\n",
       "      <td>397</td>\n",
       "      <td>Lsn7_lists</td>\n",
       "      <td>0.891572</td>\n",
       "    </tr>\n",
       "    <tr>\n",
       "      <th>398</th>\n",
       "      <td>398</td>\n",
       "      <td>to_the_end</td>\n",
       "      <td>0.913582</td>\n",
       "    </tr>\n",
       "    <tr>\n",
       "      <th>399</th>\n",
       "      <td>399</td>\n",
       "      <td>pex1</td>\n",
       "      <td>1.000000</td>\n",
       "    </tr>\n",
       "  </tbody>\n",
       "</table>\n",
       "<p>400 rows × 3 columns</p>\n",
       "</div>"
      ],
      "text/plain": [
       "     Unnamed: 0                    problem  difficulty\n",
       "0             0              a1_7_sickness    0.000000\n",
       "1             1             a1_3_satellite    0.000000\n",
       "2             2                lsn23_paint    0.000000\n",
       "3             3               a3_2_excuses    0.000000\n",
       "4             4            a1_4_goldilocks    0.000000\n",
       "..          ...                        ...         ...\n",
       "395         395  lsn15_survivors_by_gender    0.725330\n",
       "396         396                 lsn24_nasa    0.742961\n",
       "397         397                 Lsn7_lists    0.891572\n",
       "398         398                 to_the_end    0.913582\n",
       "399         399                       pex1    1.000000\n",
       "\n",
       "[400 rows x 3 columns]"
      ]
     },
     "execution_count": 17,
     "metadata": {},
     "output_type": "execute_result"
    }
   ],
   "source": [
    "questionDifficulty"
   ]
  },
  {
   "cell_type": "code",
   "execution_count": 2,
   "id": "3cfafffa",
   "metadata": {
    "scrolled": true
   },
   "outputs": [
    {
     "data": {
      "text/plain": [
       "'a2_4_pipe'"
      ]
     },
     "execution_count": 2,
     "metadata": {},
     "output_type": "execute_result"
    }
   ],
   "source": [
    "mb.nextQuestion(problem, questionDifficulty, distributions, qData)"
   ]
  },
  {
   "cell_type": "code",
   "execution_count": 4,
   "id": "14056eb9",
   "metadata": {
    "scrolled": true
   },
   "outputs": [
    {
     "data": {
      "text/plain": [
       "'lsn5_calories'"
      ]
     },
     "execution_count": 4,
     "metadata": {},
     "output_type": "execute_result"
    }
   ],
   "source": [
    "mb.maintainDifficulty(problem, questionDifficulty)"
   ]
  },
  {
   "cell_type": "code",
   "execution_count": 12,
   "id": "8dc860ae",
   "metadata": {},
   "outputs": [],
   "source": [
    "upperBound = questionDifficulty[questionDifficulty['problem'] == 'a1_2_lessons'].index[0]\n",
    "lesserDiff = questionDifficulty.iloc[0:upperBound].drop([\"Unnamed: 0\"], axis=1)"
   ]
  },
  {
   "cell_type": "code",
   "execution_count": 18,
   "id": "dfd2af81",
   "metadata": {},
   "outputs": [
    {
     "data": {
      "text/html": [
       "<div>\n",
       "<style scoped>\n",
       "    .dataframe tbody tr th:only-of-type {\n",
       "        vertical-align: middle;\n",
       "    }\n",
       "\n",
       "    .dataframe tbody tr th {\n",
       "        vertical-align: top;\n",
       "    }\n",
       "\n",
       "    .dataframe thead th {\n",
       "        text-align: right;\n",
       "    }\n",
       "</style>\n",
       "<table border=\"1\" class=\"dataframe\">\n",
       "  <thead>\n",
       "    <tr style=\"text-align: right;\">\n",
       "      <th></th>\n",
       "      <th>problem</th>\n",
       "      <th>difficulty</th>\n",
       "    </tr>\n",
       "  </thead>\n",
       "  <tbody>\n",
       "    <tr>\n",
       "      <th>0</th>\n",
       "      <td>a1_7_sickness</td>\n",
       "      <td>0.0</td>\n",
       "    </tr>\n",
       "    <tr>\n",
       "      <th>1</th>\n",
       "      <td>a1_3_satellite</td>\n",
       "      <td>0.0</td>\n",
       "    </tr>\n",
       "    <tr>\n",
       "      <th>2</th>\n",
       "      <td>lsn23_paint</td>\n",
       "      <td>0.0</td>\n",
       "    </tr>\n",
       "    <tr>\n",
       "      <th>3</th>\n",
       "      <td>a3_2_excuses</td>\n",
       "      <td>0.0</td>\n",
       "    </tr>\n",
       "    <tr>\n",
       "      <th>4</th>\n",
       "      <td>a1_4_goldilocks</td>\n",
       "      <td>0.0</td>\n",
       "    </tr>\n",
       "    <tr>\n",
       "      <th>5</th>\n",
       "      <td>lsn21_bouncingballs</td>\n",
       "      <td>0.0</td>\n",
       "    </tr>\n",
       "    <tr>\n",
       "      <th>6</th>\n",
       "      <td>a1_4_satellite</td>\n",
       "      <td>0.0</td>\n",
       "    </tr>\n",
       "    <tr>\n",
       "      <th>7</th>\n",
       "      <td>a1_4_vspeed</td>\n",
       "      <td>0.0</td>\n",
       "    </tr>\n",
       "    <tr>\n",
       "      <th>8</th>\n",
       "      <td>a4_5_password</td>\n",
       "      <td>0.0</td>\n",
       "    </tr>\n",
       "    <tr>\n",
       "      <th>9</th>\n",
       "      <td>a3_2_bands</td>\n",
       "      <td>0.0</td>\n",
       "    </tr>\n",
       "    <tr>\n",
       "      <th>10</th>\n",
       "      <td>a1_5_sound</td>\n",
       "      <td>0.0</td>\n",
       "    </tr>\n",
       "    <tr>\n",
       "      <th>11</th>\n",
       "      <td>lsn21_stamp</td>\n",
       "      <td>0.0</td>\n",
       "    </tr>\n",
       "    <tr>\n",
       "      <th>12</th>\n",
       "      <td>a1_7_dog</td>\n",
       "      <td>0.0</td>\n",
       "    </tr>\n",
       "    <tr>\n",
       "      <th>13</th>\n",
       "      <td>lsn21_triangle</td>\n",
       "      <td>0.0</td>\n",
       "    </tr>\n",
       "    <tr>\n",
       "      <th>14</th>\n",
       "      <td>a1_6_paint</td>\n",
       "      <td>0.0</td>\n",
       "    </tr>\n",
       "    <tr>\n",
       "      <th>15</th>\n",
       "      <td>lsn22_bouncingball</td>\n",
       "      <td>0.0</td>\n",
       "    </tr>\n",
       "    <tr>\n",
       "      <th>16</th>\n",
       "      <td>lsn22_bouncingballs</td>\n",
       "      <td>0.0</td>\n",
       "    </tr>\n",
       "    <tr>\n",
       "      <th>17</th>\n",
       "      <td>a1_7_pilot_quals</td>\n",
       "      <td>0.0</td>\n",
       "    </tr>\n",
       "    <tr>\n",
       "      <th>18</th>\n",
       "      <td>lsn23_soundboard</td>\n",
       "      <td>0.0</td>\n",
       "    </tr>\n",
       "    <tr>\n",
       "      <th>19</th>\n",
       "      <td>lsn22_bouncingtriangle</td>\n",
       "      <td>0.0</td>\n",
       "    </tr>\n",
       "  </tbody>\n",
       "</table>\n",
       "</div>"
      ],
      "text/plain": [
       "                   problem  difficulty\n",
       "0            a1_7_sickness         0.0\n",
       "1           a1_3_satellite         0.0\n",
       "2              lsn23_paint         0.0\n",
       "3             a3_2_excuses         0.0\n",
       "4          a1_4_goldilocks         0.0\n",
       "5      lsn21_bouncingballs         0.0\n",
       "6           a1_4_satellite         0.0\n",
       "7              a1_4_vspeed         0.0\n",
       "8           a4_5_password          0.0\n",
       "9               a3_2_bands         0.0\n",
       "10              a1_5_sound         0.0\n",
       "11             lsn21_stamp         0.0\n",
       "12                a1_7_dog         0.0\n",
       "13          lsn21_triangle         0.0\n",
       "14              a1_6_paint         0.0\n",
       "15      lsn22_bouncingball         0.0\n",
       "16     lsn22_bouncingballs         0.0\n",
       "17        a1_7_pilot_quals         0.0\n",
       "18        lsn23_soundboard         0.0\n",
       "19  lsn22_bouncingtriangle         0.0"
      ]
     },
     "execution_count": 18,
     "metadata": {},
     "output_type": "execute_result"
    }
   ],
   "source": [
    "questionDifficulty.iloc[0:upperBound].drop([\"Unnamed: 0\"], axis=1)"
   ]
  },
  {
   "cell_type": "code",
   "execution_count": 27,
   "id": "4f4b49a6",
   "metadata": {},
   "outputs": [
    {
     "data": {
      "text/html": [
       "<div>\n",
       "<style scoped>\n",
       "    .dataframe tbody tr th:only-of-type {\n",
       "        vertical-align: middle;\n",
       "    }\n",
       "\n",
       "    .dataframe tbody tr th {\n",
       "        vertical-align: top;\n",
       "    }\n",
       "\n",
       "    .dataframe thead th {\n",
       "        text-align: right;\n",
       "    }\n",
       "</style>\n",
       "<table border=\"1\" class=\"dataframe\">\n",
       "  <thead>\n",
       "    <tr style=\"text-align: right;\">\n",
       "      <th></th>\n",
       "      <th>Unnamed: 0</th>\n",
       "      <th>problem</th>\n",
       "      <th>difficulty</th>\n",
       "    </tr>\n",
       "  </thead>\n",
       "  <tbody>\n",
       "    <tr>\n",
       "      <th>0</th>\n",
       "      <td>0</td>\n",
       "      <td>a1_7_sickness</td>\n",
       "      <td>0.000000</td>\n",
       "    </tr>\n",
       "    <tr>\n",
       "      <th>1</th>\n",
       "      <td>1</td>\n",
       "      <td>a1_3_satellite</td>\n",
       "      <td>0.000000</td>\n",
       "    </tr>\n",
       "    <tr>\n",
       "      <th>2</th>\n",
       "      <td>2</td>\n",
       "      <td>lsn23_paint</td>\n",
       "      <td>0.000000</td>\n",
       "    </tr>\n",
       "    <tr>\n",
       "      <th>3</th>\n",
       "      <td>3</td>\n",
       "      <td>a3_2_excuses</td>\n",
       "      <td>0.000000</td>\n",
       "    </tr>\n",
       "    <tr>\n",
       "      <th>4</th>\n",
       "      <td>4</td>\n",
       "      <td>a1_4_goldilocks</td>\n",
       "      <td>0.000000</td>\n",
       "    </tr>\n",
       "    <tr>\n",
       "      <th>...</th>\n",
       "      <td>...</td>\n",
       "      <td>...</td>\n",
       "      <td>...</td>\n",
       "    </tr>\n",
       "    <tr>\n",
       "      <th>395</th>\n",
       "      <td>395</td>\n",
       "      <td>lsn15_survivors_by_gender</td>\n",
       "      <td>0.725330</td>\n",
       "    </tr>\n",
       "    <tr>\n",
       "      <th>396</th>\n",
       "      <td>396</td>\n",
       "      <td>lsn24_nasa</td>\n",
       "      <td>0.742961</td>\n",
       "    </tr>\n",
       "    <tr>\n",
       "      <th>397</th>\n",
       "      <td>397</td>\n",
       "      <td>Lsn7_lists</td>\n",
       "      <td>0.891572</td>\n",
       "    </tr>\n",
       "    <tr>\n",
       "      <th>398</th>\n",
       "      <td>398</td>\n",
       "      <td>to_the_end</td>\n",
       "      <td>0.913582</td>\n",
       "    </tr>\n",
       "    <tr>\n",
       "      <th>399</th>\n",
       "      <td>399</td>\n",
       "      <td>pex1</td>\n",
       "      <td>1.000000</td>\n",
       "    </tr>\n",
       "  </tbody>\n",
       "</table>\n",
       "<p>400 rows × 3 columns</p>\n",
       "</div>"
      ],
      "text/plain": [
       "     Unnamed: 0                    problem  difficulty\n",
       "0             0              a1_7_sickness    0.000000\n",
       "1             1             a1_3_satellite    0.000000\n",
       "2             2                lsn23_paint    0.000000\n",
       "3             3               a3_2_excuses    0.000000\n",
       "4             4            a1_4_goldilocks    0.000000\n",
       "..          ...                        ...         ...\n",
       "395         395  lsn15_survivors_by_gender    0.725330\n",
       "396         396                 lsn24_nasa    0.742961\n",
       "397         397                 Lsn7_lists    0.891572\n",
       "398         398                 to_the_end    0.913582\n",
       "399         399                       pex1    1.000000\n",
       "\n",
       "[400 rows x 3 columns]"
      ]
     },
     "execution_count": 27,
     "metadata": {},
     "output_type": "execute_result"
    }
   ],
   "source": [
    "questionDifficulty"
   ]
  },
  {
   "cell_type": "code",
   "execution_count": null,
   "id": "65c5a67c",
   "metadata": {},
   "outputs": [],
   "source": []
  }
 ],
 "metadata": {
  "kernelspec": {
   "display_name": "Python 3",
   "language": "python",
   "name": "python3"
  },
  "language_info": {
   "codemirror_mode": {
    "name": "ipython",
    "version": 3
   },
   "file_extension": ".py",
   "mimetype": "text/x-python",
   "name": "python",
   "nbconvert_exporter": "python",
   "pygments_lexer": "ipython3",
   "version": "3.8.10"
  }
 },
 "nbformat": 4,
 "nbformat_minor": 5
}
